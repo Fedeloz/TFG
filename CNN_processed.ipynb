{
 "metadata": {
  "language_info": {
   "codemirror_mode": {
    "name": "ipython",
    "version": 3
   },
   "file_extension": ".py",
   "mimetype": "text/x-python",
   "name": "python",
   "nbconvert_exporter": "python",
   "pygments_lexer": "ipython3",
   "version": "3.6.13"
  },
  "orig_nbformat": 4,
  "kernelspec": {
   "name": "python3",
   "display_name": "Python 3.6.13 64-bit ('TFG': conda)"
  },
  "interpreter": {
   "hash": "b8557ebd980d8b35bc9b6085143f7031abc4128cdeb7cdb338d320445ac3328d"
  }
 },
 "nbformat": 4,
 "nbformat_minor": 2,
 "cells": [
  {
   "cell_type": "markdown",
   "source": [
    "# Convolutional Neural Network"
   ],
   "metadata": {}
  },
  {
   "cell_type": "code",
   "execution_count": 1,
   "source": [
    "#-------------------------------------------------------------------------------------------#\r\n",
    "#                                             Framework                                     #\r\n",
    "#-------------------------------------------------------------------------------------------#\r\n",
    "\r\n",
    "import numpy as np\r\n",
    "import pandas as pd\r\n",
    "import return_data\r\n",
    "\r\n",
    "#--------------------------------------------------------------------------------------------#\r\n",
    "#                                             Read Data                                      #\r\n",
    "#--------------------------------------------------------------------------------------------#\r\n",
    "\r\n",
    "parity_matrix_path = 'Matlab/matrix_generated/Mat_LCP_Parity.mat'               # L -> Pseudo random\r\n",
    "random_matrix_path = 'Matlab/matrix_generated/Mat_LCP_Urand2.mat'               # R -> True random\r\n",
    "parity_matrix_name = 'Mat_coef_recortada'\r\n",
    "random_matrix_name = 'Mat_coef_recortada'\r\n",
    "\r\n",
    "block_size      = 260       # Mejor resultado: 220x220\r\n",
    "size1           = 57        # 9248 -> 2^5 · 17^2\r\n",
    "size2           = 114\r\n",
    "transform_type  = 'dct'     # dft, dct\r\n",
    "\r\n",
    "X, y = return_data.return_Xy(parity_matrix_path, parity_matrix_name, random_matrix_path, random_matrix_name, block_size, transform_type)\r\n",
    "\r\n",
    "#--------------------------------------------------------------------------------------------#\r\n",
    "#                                             DataFrame                                      #\r\n",
    "#--------------------------------------------------------------------------------------------#\r\n",
    "\r\n",
    "df_pixel = pd.DataFrame(X)\r\n",
    "df_pixel .insert(loc=0, column='Label', value=y)\r\n",
    "display  (df_pixel)"
   ],
   "outputs": [
    {
     "output_type": "stream",
     "name": "stdout",
     "text": [
      "Blocks calculated\n",
      "Blocks transformed\n",
      "Creating pandas dataframe\n",
      "X and y variables created\n"
     ]
    },
    {
     "output_type": "display_data",
     "data": {
      "text/html": [
       "<div>\n",
       "<style scoped>\n",
       "    .dataframe tbody tr th:only-of-type {\n",
       "        vertical-align: middle;\n",
       "    }\n",
       "\n",
       "    .dataframe tbody tr th {\n",
       "        vertical-align: top;\n",
       "    }\n",
       "\n",
       "    .dataframe thead th {\n",
       "        text-align: right;\n",
       "    }\n",
       "</style>\n",
       "<table border=\"1\" class=\"dataframe\">\n",
       "  <thead>\n",
       "    <tr style=\"text-align: right;\">\n",
       "      <th></th>\n",
       "      <th>Label</th>\n",
       "      <th>0</th>\n",
       "      <th>1</th>\n",
       "      <th>2</th>\n",
       "      <th>3</th>\n",
       "      <th>4</th>\n",
       "      <th>5</th>\n",
       "      <th>6</th>\n",
       "      <th>7</th>\n",
       "      <th>8</th>\n",
       "      <th>...</th>\n",
       "      <th>6488</th>\n",
       "      <th>6489</th>\n",
       "      <th>6490</th>\n",
       "      <th>6491</th>\n",
       "      <th>6492</th>\n",
       "      <th>6493</th>\n",
       "      <th>6494</th>\n",
       "      <th>6495</th>\n",
       "      <th>6496</th>\n",
       "      <th>6497</th>\n",
       "    </tr>\n",
       "  </thead>\n",
       "  <tbody>\n",
       "    <tr>\n",
       "      <th>0</th>\n",
       "      <td>0.0</td>\n",
       "      <td>0.576265</td>\n",
       "      <td>-0.184216</td>\n",
       "      <td>0.115267</td>\n",
       "      <td>-0.082054</td>\n",
       "      <td>0.067353</td>\n",
       "      <td>-0.053054</td>\n",
       "      <td>0.043476</td>\n",
       "      <td>-0.044006</td>\n",
       "      <td>0.037209</td>\n",
       "      <td>...</td>\n",
       "      <td>-0.006171</td>\n",
       "      <td>0.000501</td>\n",
       "      <td>-0.005517</td>\n",
       "      <td>-0.001840</td>\n",
       "      <td>-0.004226</td>\n",
       "      <td>0.005288</td>\n",
       "      <td>0.004768</td>\n",
       "      <td>-0.002739</td>\n",
       "      <td>0.002410</td>\n",
       "      <td>0.000071</td>\n",
       "    </tr>\n",
       "    <tr>\n",
       "      <th>1</th>\n",
       "      <td>0.0</td>\n",
       "      <td>0.573120</td>\n",
       "      <td>-0.193422</td>\n",
       "      <td>0.116968</td>\n",
       "      <td>-0.074085</td>\n",
       "      <td>0.066246</td>\n",
       "      <td>-0.057553</td>\n",
       "      <td>0.044461</td>\n",
       "      <td>-0.040293</td>\n",
       "      <td>0.030275</td>\n",
       "      <td>...</td>\n",
       "      <td>-0.000901</td>\n",
       "      <td>-0.003521</td>\n",
       "      <td>0.000427</td>\n",
       "      <td>0.005628</td>\n",
       "      <td>0.000380</td>\n",
       "      <td>-0.001754</td>\n",
       "      <td>-0.004233</td>\n",
       "      <td>0.002303</td>\n",
       "      <td>-0.001333</td>\n",
       "      <td>-0.003778</td>\n",
       "    </tr>\n",
       "    <tr>\n",
       "      <th>2</th>\n",
       "      <td>0.0</td>\n",
       "      <td>0.571596</td>\n",
       "      <td>-0.197279</td>\n",
       "      <td>0.116359</td>\n",
       "      <td>-0.078885</td>\n",
       "      <td>0.065738</td>\n",
       "      <td>-0.054290</td>\n",
       "      <td>0.042370</td>\n",
       "      <td>-0.032842</td>\n",
       "      <td>0.031982</td>\n",
       "      <td>...</td>\n",
       "      <td>0.002175</td>\n",
       "      <td>-0.002100</td>\n",
       "      <td>-0.005314</td>\n",
       "      <td>-0.000923</td>\n",
       "      <td>-0.001372</td>\n",
       "      <td>0.005670</td>\n",
       "      <td>0.006226</td>\n",
       "      <td>-0.005664</td>\n",
       "      <td>0.000391</td>\n",
       "      <td>-0.004244</td>\n",
       "    </tr>\n",
       "    <tr>\n",
       "      <th>3</th>\n",
       "      <td>0.0</td>\n",
       "      <td>0.575515</td>\n",
       "      <td>-0.193357</td>\n",
       "      <td>0.117514</td>\n",
       "      <td>-0.083320</td>\n",
       "      <td>0.062996</td>\n",
       "      <td>-0.046121</td>\n",
       "      <td>0.052902</td>\n",
       "      <td>-0.034720</td>\n",
       "      <td>0.032633</td>\n",
       "      <td>...</td>\n",
       "      <td>0.001465</td>\n",
       "      <td>-0.005195</td>\n",
       "      <td>0.001475</td>\n",
       "      <td>0.002598</td>\n",
       "      <td>-0.001742</td>\n",
       "      <td>0.004680</td>\n",
       "      <td>-0.007449</td>\n",
       "      <td>0.003478</td>\n",
       "      <td>0.001029</td>\n",
       "      <td>-0.000719</td>\n",
       "    </tr>\n",
       "    <tr>\n",
       "      <th>4</th>\n",
       "      <td>0.0</td>\n",
       "      <td>0.577620</td>\n",
       "      <td>-0.190585</td>\n",
       "      <td>0.118527</td>\n",
       "      <td>-0.081501</td>\n",
       "      <td>0.062750</td>\n",
       "      <td>-0.052864</td>\n",
       "      <td>0.039736</td>\n",
       "      <td>-0.034641</td>\n",
       "      <td>0.028693</td>\n",
       "      <td>...</td>\n",
       "      <td>-0.005651</td>\n",
       "      <td>0.001313</td>\n",
       "      <td>0.000926</td>\n",
       "      <td>0.002443</td>\n",
       "      <td>0.005461</td>\n",
       "      <td>0.004609</td>\n",
       "      <td>-0.002995</td>\n",
       "      <td>-0.006052</td>\n",
       "      <td>0.005606</td>\n",
       "      <td>0.006566</td>\n",
       "    </tr>\n",
       "    <tr>\n",
       "      <th>...</th>\n",
       "      <td>...</td>\n",
       "      <td>...</td>\n",
       "      <td>...</td>\n",
       "      <td>...</td>\n",
       "      <td>...</td>\n",
       "      <td>...</td>\n",
       "      <td>...</td>\n",
       "      <td>...</td>\n",
       "      <td>...</td>\n",
       "      <td>...</td>\n",
       "      <td>...</td>\n",
       "      <td>...</td>\n",
       "      <td>...</td>\n",
       "      <td>...</td>\n",
       "      <td>...</td>\n",
       "      <td>...</td>\n",
       "      <td>...</td>\n",
       "      <td>...</td>\n",
       "      <td>...</td>\n",
       "      <td>...</td>\n",
       "      <td>...</td>\n",
       "    </tr>\n",
       "    <tr>\n",
       "      <th>6493</th>\n",
       "      <td>1.0</td>\n",
       "      <td>0.579688</td>\n",
       "      <td>-0.185465</td>\n",
       "      <td>0.121648</td>\n",
       "      <td>-0.080297</td>\n",
       "      <td>0.061311</td>\n",
       "      <td>-0.060347</td>\n",
       "      <td>0.040032</td>\n",
       "      <td>-0.034950</td>\n",
       "      <td>0.041160</td>\n",
       "      <td>...</td>\n",
       "      <td>0.003742</td>\n",
       "      <td>0.008416</td>\n",
       "      <td>0.000721</td>\n",
       "      <td>-0.002589</td>\n",
       "      <td>-0.003428</td>\n",
       "      <td>-0.001767</td>\n",
       "      <td>0.004328</td>\n",
       "      <td>0.005219</td>\n",
       "      <td>-0.001053</td>\n",
       "      <td>-0.000141</td>\n",
       "    </tr>\n",
       "    <tr>\n",
       "      <th>6494</th>\n",
       "      <td>1.0</td>\n",
       "      <td>0.573934</td>\n",
       "      <td>-0.194582</td>\n",
       "      <td>0.121371</td>\n",
       "      <td>-0.084862</td>\n",
       "      <td>0.069203</td>\n",
       "      <td>-0.047506</td>\n",
       "      <td>0.039199</td>\n",
       "      <td>-0.033583</td>\n",
       "      <td>0.031179</td>\n",
       "      <td>...</td>\n",
       "      <td>0.006393</td>\n",
       "      <td>-0.005874</td>\n",
       "      <td>0.004367</td>\n",
       "      <td>0.001022</td>\n",
       "      <td>-0.002055</td>\n",
       "      <td>0.004097</td>\n",
       "      <td>-0.000035</td>\n",
       "      <td>0.004518</td>\n",
       "      <td>-0.001487</td>\n",
       "      <td>0.000474</td>\n",
       "    </tr>\n",
       "    <tr>\n",
       "      <th>6495</th>\n",
       "      <td>1.0</td>\n",
       "      <td>0.573285</td>\n",
       "      <td>-0.191749</td>\n",
       "      <td>0.116836</td>\n",
       "      <td>-0.079682</td>\n",
       "      <td>0.066441</td>\n",
       "      <td>-0.052514</td>\n",
       "      <td>0.045492</td>\n",
       "      <td>-0.039095</td>\n",
       "      <td>0.027629</td>\n",
       "      <td>...</td>\n",
       "      <td>0.001270</td>\n",
       "      <td>0.004616</td>\n",
       "      <td>0.001821</td>\n",
       "      <td>0.002154</td>\n",
       "      <td>0.001290</td>\n",
       "      <td>-0.002838</td>\n",
       "      <td>0.007260</td>\n",
       "      <td>0.003680</td>\n",
       "      <td>-0.006298</td>\n",
       "      <td>-0.004964</td>\n",
       "    </tr>\n",
       "    <tr>\n",
       "      <th>6496</th>\n",
       "      <td>1.0</td>\n",
       "      <td>0.579624</td>\n",
       "      <td>-0.188875</td>\n",
       "      <td>0.119317</td>\n",
       "      <td>-0.083101</td>\n",
       "      <td>0.058091</td>\n",
       "      <td>-0.046604</td>\n",
       "      <td>0.060994</td>\n",
       "      <td>-0.038054</td>\n",
       "      <td>0.033655</td>\n",
       "      <td>...</td>\n",
       "      <td>0.005045</td>\n",
       "      <td>0.008292</td>\n",
       "      <td>0.008306</td>\n",
       "      <td>-0.002166</td>\n",
       "      <td>-0.003397</td>\n",
       "      <td>0.003239</td>\n",
       "      <td>-0.000435</td>\n",
       "      <td>-0.001122</td>\n",
       "      <td>-0.002676</td>\n",
       "      <td>-0.004636</td>\n",
       "    </tr>\n",
       "    <tr>\n",
       "      <th>6497</th>\n",
       "      <td>1.0</td>\n",
       "      <td>0.576152</td>\n",
       "      <td>-0.188024</td>\n",
       "      <td>0.104119</td>\n",
       "      <td>-0.084119</td>\n",
       "      <td>0.060941</td>\n",
       "      <td>-0.048254</td>\n",
       "      <td>0.044839</td>\n",
       "      <td>-0.040844</td>\n",
       "      <td>0.033061</td>\n",
       "      <td>...</td>\n",
       "      <td>-0.004773</td>\n",
       "      <td>-0.001231</td>\n",
       "      <td>0.001678</td>\n",
       "      <td>-0.000383</td>\n",
       "      <td>0.000366</td>\n",
       "      <td>0.000436</td>\n",
       "      <td>-0.003818</td>\n",
       "      <td>-0.000441</td>\n",
       "      <td>0.009039</td>\n",
       "      <td>-0.005145</td>\n",
       "    </tr>\n",
       "  </tbody>\n",
       "</table>\n",
       "<p>6498 rows × 6499 columns</p>\n",
       "</div>"
      ],
      "text/plain": [
       "      Label         0         1         2         3         4         5  \\\n",
       "0       0.0  0.576265 -0.184216  0.115267 -0.082054  0.067353 -0.053054   \n",
       "1       0.0  0.573120 -0.193422  0.116968 -0.074085  0.066246 -0.057553   \n",
       "2       0.0  0.571596 -0.197279  0.116359 -0.078885  0.065738 -0.054290   \n",
       "3       0.0  0.575515 -0.193357  0.117514 -0.083320  0.062996 -0.046121   \n",
       "4       0.0  0.577620 -0.190585  0.118527 -0.081501  0.062750 -0.052864   \n",
       "...     ...       ...       ...       ...       ...       ...       ...   \n",
       "6493    1.0  0.579688 -0.185465  0.121648 -0.080297  0.061311 -0.060347   \n",
       "6494    1.0  0.573934 -0.194582  0.121371 -0.084862  0.069203 -0.047506   \n",
       "6495    1.0  0.573285 -0.191749  0.116836 -0.079682  0.066441 -0.052514   \n",
       "6496    1.0  0.579624 -0.188875  0.119317 -0.083101  0.058091 -0.046604   \n",
       "6497    1.0  0.576152 -0.188024  0.104119 -0.084119  0.060941 -0.048254   \n",
       "\n",
       "             6         7         8  ...      6488      6489      6490  \\\n",
       "0     0.043476 -0.044006  0.037209  ... -0.006171  0.000501 -0.005517   \n",
       "1     0.044461 -0.040293  0.030275  ... -0.000901 -0.003521  0.000427   \n",
       "2     0.042370 -0.032842  0.031982  ...  0.002175 -0.002100 -0.005314   \n",
       "3     0.052902 -0.034720  0.032633  ...  0.001465 -0.005195  0.001475   \n",
       "4     0.039736 -0.034641  0.028693  ... -0.005651  0.001313  0.000926   \n",
       "...        ...       ...       ...  ...       ...       ...       ...   \n",
       "6493  0.040032 -0.034950  0.041160  ...  0.003742  0.008416  0.000721   \n",
       "6494  0.039199 -0.033583  0.031179  ...  0.006393 -0.005874  0.004367   \n",
       "6495  0.045492 -0.039095  0.027629  ...  0.001270  0.004616  0.001821   \n",
       "6496  0.060994 -0.038054  0.033655  ...  0.005045  0.008292  0.008306   \n",
       "6497  0.044839 -0.040844  0.033061  ... -0.004773 -0.001231  0.001678   \n",
       "\n",
       "          6491      6492      6493      6494      6495      6496      6497  \n",
       "0    -0.001840 -0.004226  0.005288  0.004768 -0.002739  0.002410  0.000071  \n",
       "1     0.005628  0.000380 -0.001754 -0.004233  0.002303 -0.001333 -0.003778  \n",
       "2    -0.000923 -0.001372  0.005670  0.006226 -0.005664  0.000391 -0.004244  \n",
       "3     0.002598 -0.001742  0.004680 -0.007449  0.003478  0.001029 -0.000719  \n",
       "4     0.002443  0.005461  0.004609 -0.002995 -0.006052  0.005606  0.006566  \n",
       "...        ...       ...       ...       ...       ...       ...       ...  \n",
       "6493 -0.002589 -0.003428 -0.001767  0.004328  0.005219 -0.001053 -0.000141  \n",
       "6494  0.001022 -0.002055  0.004097 -0.000035  0.004518 -0.001487  0.000474  \n",
       "6495  0.002154  0.001290 -0.002838  0.007260  0.003680 -0.006298 -0.004964  \n",
       "6496 -0.002166 -0.003397  0.003239 -0.000435 -0.001122 -0.002676 -0.004636  \n",
       "6497 -0.000383  0.000366  0.000436 -0.003818 -0.000441  0.009039 -0.005145  \n",
       "\n",
       "[6498 rows x 6499 columns]"
      ]
     },
     "metadata": {}
    }
   ],
   "metadata": {}
  },
  {
   "cell_type": "code",
   "execution_count": 2,
   "source": [
    "# small_df = df_pixel[df_pixel.columns[:2001]]\r\n",
    "# size1, size2 = 40, 50\r\n",
    "\r\n",
    "# display  (small_df)\r\n",
    "# df_pixel = small_df"
   ],
   "outputs": [],
   "metadata": {}
  },
  {
   "cell_type": "markdown",
   "source": [
    "## Plot Data\r\n"
   ],
   "metadata": {}
  },
  {
   "cell_type": "code",
   "execution_count": 3,
   "source": [
    "import matplotlib.pyplot as plt\r\n",
    "\r\n",
    "plt.figure(figsize=(10,5))\r\n",
    "label = ['Parity', 'Urand']\r\n",
    "for i in range (len(label)):\r\n",
    "    plt.subplot(1, 2, i+1)\r\n",
    "    img = df_pixel[df_pixel['Label']==i].iloc[0,1:].values\r\n",
    "    img = img.reshape((size1, size2))\r\n",
    "    plt.imshow(img, cmap='hsv')\r\n",
    "    plt.title(\"Class: \" + label[i])\r\n",
    "    plt.axis('off')\r\n",
    "    \r\n",
    "plt.show()"
   ],
   "outputs": [
    {
     "output_type": "display_data",
     "data": {
      "image/png": "[encoded data removed]",
      "text/plain": [
       "<Figure size 720x360 with 2 Axes>"
      ]
     },
     "metadata": {
      "needs_background": "light"
     }
    }
   ],
   "metadata": {}
  },
  {
   "cell_type": "markdown",
   "source": [
    "## Reshape\r\n",
    "\r\n",
    "Para poder usar las imágenes obtenidas estas se van a transformar a tensores cuya forma será [size1 x size2 x 1]. Se escoge esta forma debido a que las imágenes son en blanco y negro y por ello sólo se usará un canal."
   ],
   "metadata": {}
  },
  {
   "cell_type": "code",
   "execution_count": 4,
   "source": [
    "from sklearn.model_selection import train_test_split\r\n",
    "from keras.utils.np_utils import to_categorical     # Label Encoding\r\n",
    "\r\n",
    "X = df_pixel.drop([\"Label\"], axis=1)\r\n",
    "y = df_pixel['Label']\r\n",
    "y = to_categorical(y, num_classes=2)\r\n",
    "\r\n",
    "X_train, X_test, y_train, y_test = train_test_split(X, y, test_size=0.3, random_state=0)\r\n",
    "\r\n",
    "X_train = X_train.values.reshape(-1, size1, size2, 1)\r\n",
    "X_test  = X_test.values.reshape (-1, size1, size2, 1)\r\n",
    "\r\n",
    "print(\"X_train shape\", X_train.shape)\r\n",
    "print(\"X_test shape\", X_test.shape)\r\n",
    "print(\"y_train shape\", y_train.shape)\r\n",
    "print(\"y_test shape\", y_test.shape)\r\n"
   ],
   "outputs": [
    {
     "output_type": "stream",
     "name": "stdout",
     "text": [
      "X_train shape (4548, 57, 114, 1)\n",
      "X_test shape (1950, 57, 114, 1)\n",
      "y_train shape (4548, 2)\n",
      "y_test shape (1950, 2)\n"
     ]
    }
   ],
   "metadata": {}
  },
  {
   "cell_type": "markdown",
   "source": [
    "# Implementación de la red neuronal convolucional"
   ],
   "metadata": {}
  },
  {
   "cell_type": "markdown",
   "source": [
    "Usaremos **Adam Optimizer**. Adam es un algoritmo de optimización que se puede utilizar en lugar del procedimiento de descenso de gradiente estocástico clásico para actualizar los pesos de la red de forma iterativa en función de los datos de entrenamiento. Es diferente al descenso de gradiente estocástico clásico. SGD busca una tasa de aprendizaje única para todas las ponderaciones y la tasa de aprendizaje (alfa) no cambia durante el proceso de entrenamiento. Sin embargo, en adam optimizer podemos decir que adam optimizer actualiza la tasa de aprendizaje de forma dinámica.\r\n",
    "<br>\r\n",
    "<img src=\"https://3qeqpr26caki16dnhd19sv6by6v-wpengine.netdna-ssl.com/wp-content/uploads/2017/05/Comparison-of-Adam-to-Other-Optimization-Algorithms-Training-a-Multilayer-Perceptron.png\" />"
   ],
   "metadata": {}
  },
  {
   "cell_type": "code",
   "execution_count": 5,
   "source": [
    "from keras.optimizers import RMSprop, Adam\r\n",
    "\r\n",
    "optimizer = Adam(learning_rate=0.001, \r\n",
    "                 beta_1=0.9, \r\n",
    "                 beta_2=0.999, \r\n",
    "                 epsilon=None, \r\n",
    "                 decay=0.0, \r\n",
    "                 amsgrad=False)"
   ],
   "outputs": [],
   "metadata": {}
  },
  {
   "cell_type": "code",
   "execution_count": 6,
   "source": [
    "#-------------------------------------------------------------------------------------------#\r\n",
    "#                                             Framework                                     #\r\n",
    "#-------------------------------------------------------------------------------------------#\r\n",
    "\r\n",
    "from keras.models import Sequential\r\n",
    "from keras.layers import Dense, Dropout, Flatten, Conv2D, MaxPooling2D, MaxPool2D\r\n",
    "\r\n",
    "#-------------------------------------------------------------------------------------------#\r\n",
    "#                                               Model                                       #\r\n",
    "#-------------------------------------------------------------------------------------------#\r\n",
    "\r\n",
    "model = Sequential()    # Linear Layering\r\n",
    "\r\n",
    "model.add(Conv2D(16, (3, 3), input_shape = (size1, size2, 1), activation = 'relu'))         # filtros convolucionales 3x3\r\n",
    "model.add(MaxPooling2D(pool_size = (2, 2)))                                                 # tensor is down-sampled by half. Agrupacion\r\n",
    "model.add(Flatten())                                                                        # flatten, projecting to lower dimensions\r\n",
    "model.add(Dense(units = 64, activation = 'relu'))                                           # dense layer with 64 inputs to prevent overfitting\r\n",
    "model.add(Dense(units = 2, activation = 'sigmoid'))                                         # activation layer. softmax para recibir probabilidades\r\n",
    "\r\n",
    "model.compile(optimizer = optimizer, loss = 'binary_crossentropy', metrics = ['accuracy'])  # compiling\r\n",
    "model.summary()\r\n"
   ],
   "outputs": [
    {
     "output_type": "stream",
     "name": "stdout",
     "text": [
      "Model: \"sequential\"\n",
      "_________________________________________________________________\n",
      "Layer (type)                 Output Shape              Param #   \n",
      "=================================================================\n",
      "conv2d (Conv2D)              (None, 55, 112, 16)       160       \n",
      "_________________________________________________________________\n",
      "max_pooling2d (MaxPooling2D) (None, 27, 56, 16)        0         \n",
      "_________________________________________________________________\n",
      "flatten (Flatten)            (None, 24192)             0         \n",
      "_________________________________________________________________\n",
      "dense (Dense)                (None, 64)                1548352   \n",
      "_________________________________________________________________\n",
      "dense_1 (Dense)              (None, 2)                 130       \n",
      "=================================================================\n",
      "Total params: 1,548,642\n",
      "Trainable params: 1,548,642\n",
      "Non-trainable params: 0\n",
      "_________________________________________________________________\n"
     ]
    }
   ],
   "metadata": {}
  },
  {
   "cell_type": "markdown",
   "source": [
    "# Training"
   ],
   "metadata": {}
  },
  {
   "cell_type": "code",
   "execution_count": 7,
   "source": [
    "epochs      = 20\r\n",
    "batchSize   = 100\r\n",
    "\r\n",
    "cnn  = model.fit(x= X_train, y= y_train, validation_data=(X_test, y_test), steps_per_epoch = 50, \r\n",
    "                                                        epochs = epochs, validation_steps=10, \r\n",
    "                                                        batch_size=batchSize)"
   ],
   "outputs": [
    {
     "output_type": "stream",
     "name": "stdout",
     "text": [
      "Epoch 1/20\n",
      "50/50 [==============================] - 28s 216ms/step - loss: 0.6870 - accuracy: 0.5684 - val_loss: 0.6441 - val_accuracy: 0.5140\n",
      "Epoch 2/20\n",
      "50/50 [==============================] - 9s 178ms/step - loss: 0.6312 - accuracy: 0.6391 - val_loss: 0.5303 - val_accuracy: 0.9840\n",
      "Epoch 3/20\n",
      "50/50 [==============================] - 8s 167ms/step - loss: 0.5078 - accuracy: 0.8380 - val_loss: 0.3795 - val_accuracy: 0.9880\n",
      "Epoch 4/20\n",
      "50/50 [==============================] - 8s 154ms/step - loss: 0.3406 - accuracy: 0.9642 - val_loss: 0.2682 - val_accuracy: 0.9790\n",
      "Epoch 5/20\n",
      "50/50 [==============================] - 9s 182ms/step - loss: 0.2089 - accuracy: 0.9836 - val_loss: 0.1686 - val_accuracy: 0.9700\n",
      "Epoch 6/20\n",
      "50/50 [==============================] - 7s 146ms/step - loss: 0.1356 - accuracy: 0.9857 - val_loss: 0.1105 - val_accuracy: 0.9950\n",
      "Epoch 7/20\n",
      "50/50 [==============================] - 7s 148ms/step - loss: 0.0942 - accuracy: 0.9901 - val_loss: 0.0813 - val_accuracy: 0.9920\n",
      "Epoch 8/20\n",
      "50/50 [==============================] - 8s 159ms/step - loss: 0.0762 - accuracy: 0.9891 - val_loss: 0.0659 - val_accuracy: 0.9920\n",
      "Epoch 9/20\n",
      "50/50 [==============================] - 8s 162ms/step - loss: 0.0572 - accuracy: 0.9903 - val_loss: 0.1029 - val_accuracy: 0.9600\n",
      "Epoch 10/20\n",
      "50/50 [==============================] - 8s 163ms/step - loss: 0.0534 - accuracy: 0.9902 - val_loss: 0.0502 - val_accuracy: 0.9890\n",
      "Epoch 11/20\n",
      "50/50 [==============================] - 9s 170ms/step - loss: 0.0344 - accuracy: 0.9972 - val_loss: 0.0827 - val_accuracy: 0.9680\n",
      "Epoch 12/20\n",
      "50/50 [==============================] - 9s 182ms/step - loss: 0.0357 - accuracy: 0.9942 - val_loss: 0.0535 - val_accuracy: 0.9830\n",
      "Epoch 13/20\n",
      "50/50 [==============================] - 9s 180ms/step - loss: 0.0310 - accuracy: 0.9956 - val_loss: 0.0586 - val_accuracy: 0.9760\n",
      "Epoch 14/20\n",
      "50/50 [==============================] - 9s 176ms/step - loss: 0.0318 - accuracy: 0.9947 - val_loss: 0.0472 - val_accuracy: 0.9930\n",
      "Epoch 15/20\n",
      "50/50 [==============================] - 9s 177ms/step - loss: 0.0334 - accuracy: 0.9930 - val_loss: 0.0976 - val_accuracy: 0.9550\n",
      "Epoch 16/20\n",
      "50/50 [==============================] - 8s 155ms/step - loss: 0.0372 - accuracy: 0.9912 - val_loss: 0.0305 - val_accuracy: 0.9930\n",
      "Epoch 17/20\n",
      "50/50 [==============================] - 8s 152ms/step - loss: 0.0157 - accuracy: 0.9990 - val_loss: 0.0300 - val_accuracy: 0.9930\n",
      "Epoch 18/20\n",
      "50/50 [==============================] - 7s 146ms/step - loss: 0.0142 - accuracy: 0.9999 - val_loss: 0.0375 - val_accuracy: 0.9950\n",
      "Epoch 19/20\n",
      "20/50 [===========>..................] - ETA: 4s - loss: 0.0153 - accuracy: 0.9997"
     ]
    },
    {
     "output_type": "stream",
     "name": "stderr",
     "text": [
      "WARNING:tensorflow:Your input ran out of data; interrupting training. Make sure that your dataset or generator can generate at least `steps_per_epoch * epochs` batches (in this case, 1000 batches). You may need to use the repeat() function when building your dataset.\n"
     ]
    },
    {
     "output_type": "stream",
     "name": "stdout",
     "text": [
      "50/50 [==============================] - 3s 69ms/step - loss: 0.0151 - accuracy: 0.9996 - val_loss: 0.0289 - val_accuracy: 0.9950\n"
     ]
    }
   ],
   "metadata": {}
  },
  {
   "cell_type": "markdown",
   "source": [
    "# Evaluación del modelo"
   ],
   "metadata": {}
  },
  {
   "cell_type": "code",
   "execution_count": 8,
   "source": [
    "print(\"Accuracy after fitting: {:.2f}%\".format(cnn.history['accuracy'][-1]*100))"
   ],
   "outputs": [
    {
     "output_type": "stream",
     "name": "stdout",
     "text": [
      "Accuracy after fitting: 99.95%\n"
     ]
    }
   ],
   "metadata": {}
  },
  {
   "cell_type": "markdown",
   "source": [
    "#### Para una mayor precisión, puede aumentar el número de épocas o puede cambiar los parámetros en las capas o puede agregar una capa adicional al modelo."
   ],
   "metadata": {}
  },
  {
   "cell_type": "code",
   "execution_count": 9,
   "source": [
    "plt.figure(figsize=(18,6))\r\n",
    "\r\n",
    "plt.subplot(1,2,1)\r\n",
    "plt.plot(cnn.history['loss'], color=\"blue\", label = \"Loss\")\r\n",
    "plt.plot(cnn.history['val_loss'], color=\"orange\", label = \"Validation Loss\")\r\n",
    "plt.ylabel(\"Loss\")\r\n",
    "plt.xlabel(\"Number of Epochs\")\r\n",
    "plt.legend()\r\n",
    "\r\n",
    "plt.subplot(1,2,2)\r\n",
    "plt.plot(cnn.history['accuracy'], color=\"green\", label = \"Accuracy\")\r\n",
    "plt.plot(cnn.history['val_accuracy'], color=\"red\", label = \"Validation Accuracy\")\r\n",
    "plt.ylabel(\"Accuracy\")\r\n",
    "plt.xlabel(\"Number of Epochs\")\r\n",
    "plt.legend()\r\n",
    "plt.show()"
   ],
   "outputs": [
    {
     "output_type": "display_data",
     "data": {
      "image/png": "[encoded data removed]",
      "text/plain": [
       "<Figure size 1296x432 with 2 Axes>"
      ]
     },
     "metadata": {
      "needs_background": "light"
     }
    }
   ],
   "metadata": {}
  },
  {
   "cell_type": "code",
   "execution_count": 10,
   "source": [
    "score = model.evaluate(X_test, y_test)\r\n",
    "print(\"Test Loss: {:.4f}\".format(score[0]))\r\n",
    "print(\"Test Accuracy: {:.2f}%\".format(score[1]*100))"
   ],
   "outputs": [
    {
     "output_type": "stream",
     "name": "stdout",
     "text": [
      "61/61 [==============================] - 1s 19ms/step - loss: 0.0291 - accuracy: 0.9949\n",
      "Test Loss: 0.0291\n",
      "Test Accuracy: 99.49%\n"
     ]
    }
   ],
   "metadata": {}
  },
  {
   "cell_type": "code",
   "execution_count": 11,
   "source": [
    "import seaborn as sns\r\n",
    "from sklearn.metrics import confusion_matrix\r\n",
    "\r\n",
    "Y_pred = model.predict(X_test)\r\n",
    "Y_pred_classes = np.argmax(Y_pred, axis = 1)\r\n",
    "Y_true = np.argmax(y_test, axis = 1)\r\n",
    "confusionMatrix = confusion_matrix(Y_true, Y_pred_classes)\r\n",
    "\r\n",
    "f,ax=plt.subplots(figsize=(10,10))\r\n",
    "sns.heatmap(confusionMatrix, annot=True, linewidths=0.1, cmap = \"gist_yarg_r\", linecolor=\"black\", fmt='.0f', ax=ax)\r\n",
    "plt.xlabel(\"Predicted Label\")\r\n",
    "plt.ylabel(\"True Label\")\r\n",
    "plt.title(\"Confusion Matrix\")\r\n",
    "plt.show()"
   ],
   "outputs": [
    {
     "output_type": "display_data",
     "data": {
      "image/png": "[encoded data removed]",
      "text/plain": [
       "<Figure size 720x720 with 2 Axes>"
      ]
     },
     "metadata": {
      "needs_background": "light"
     }
    }
   ],
   "metadata": {}
  },
  {
   "cell_type": "code",
   "execution_count": 12,
   "source": [
    "# Delete a few variables for space reasons\r\n",
    "%reset_selective -f X_train, X_test, y_train, y_test"
   ],
   "outputs": [],
   "metadata": {}
  },
  {
   "cell_type": "markdown",
   "source": [
    "# Testing new Data"
   ],
   "metadata": {}
  },
  {
   "cell_type": "markdown",
   "source": [
    "## 1 bit displaced"
   ],
   "metadata": {}
  },
  {
   "cell_type": "code",
   "execution_count": 13,
   "source": [
    "parity_matrix_path = 'Matlab/matrix_generated/Mat_LCP_Parity_1_displaced.mat'    # L -> New Pseudo random\r\n",
    "\r\n",
    "#-------------------------------------------------------------------------------------------#\r\n",
    "\r\n",
    "# block_size, size1, size2 = 260, 57, 114\r\n",
    "X, y = return_data.return_Xy(parity_matrix_path, parity_matrix_name, random_matrix_path, random_matrix_name, block_size, transform_type)\r\n",
    "\r\n",
    "df_pixel = pd.DataFrame(X)\r\n",
    "df_pixel .insert(loc=0, column='Label', value=y)\r\n",
    "\r\n",
    "# small_df = df_pixel[df_pixel.columns[:401]]\r\n",
    "# size1, size2 = 40, 50\r\n",
    "# df_pixel = small_df\r\n",
    "\r\n",
    "X = df_pixel.drop([\"Label\"], axis=1)\r\n",
    "y = df_pixel['Label']\r\n",
    "\r\n",
    "X = X.values.reshape(-1, size1, size2, 1)\r\n",
    "y = to_categorical(y, num_classes=2)\r\n",
    "\r\n",
    "#-------------------------------------------------------------------------------------------#\r\n",
    "\r\n",
    "score = model.evaluate(X, y)\r\n",
    "print(\"1 bit displaced Loss: {:.4f}\".format(score[0]))\r\n",
    "print(\"1 bit displaced Accuracy: {:.2f}%\".format(score[1]*100))"
   ],
   "outputs": [
    {
     "output_type": "stream",
     "name": "stdout",
     "text": [
      "Blocks calculated\n",
      "Blocks transformed\n",
      "Creating pandas dataframe\n",
      "X and y variables created\n",
      "204/204 [==============================] - 4s 18ms/step - loss: 0.0052 - accuracy: 0.9994\n",
      "1 bit displaced Loss: 0.0052\n",
      "1 bit displaced Accuracy: 99.94%\n"
     ]
    }
   ],
   "metadata": {}
  },
  {
   "cell_type": "markdown",
   "source": [
    "## 2 bits displaced"
   ],
   "metadata": {}
  },
  {
   "cell_type": "code",
   "execution_count": 14,
   "source": [
    "parity_matrix_path = 'Matlab/matrix_generated/Mat_LCP_Parity_2_displaced.mat'    # L -> New Pseudo random\r\n",
    "\r\n",
    "#-------------------------------------------------------------------------------------------#\r\n",
    "# block_size, size1, size2 = 260, 57, 114\r\n",
    "X, y = return_data.return_Xy(parity_matrix_path, parity_matrix_name, random_matrix_path, random_matrix_name, block_size, transform_type)\r\n",
    "\r\n",
    "df_pixel = pd.DataFrame(X)\r\n",
    "df_pixel .insert(loc=0, column='Label', value=y)\r\n",
    "\r\n",
    "# small_df = df_pixel[df_pixel.columns[:401]]\r\n",
    "# size1, size2 = 40, 50\r\n",
    "# df_pixel = small_df\r\n",
    "\r\n",
    "X = df_pixel.drop([\"Label\"], axis=1)\r\n",
    "y = df_pixel['Label']\r\n",
    "\r\n",
    "X = X.values.reshape(-1, size1, size2, 1)\r\n",
    "y = to_categorical(y, num_classes=2)\r\n",
    "\r\n",
    "#-------------------------------------------------------------------------------------------#\r\n",
    "\r\n",
    "score = model.evaluate(X, y)\r\n",
    "print(\"2 bits displaced Loss: {:.4f}\".format(score[0]))\r\n",
    "print(\"2 bits displaced Accuracy: {:.2f}%\".format(score[1]*100))"
   ],
   "outputs": [
    {
     "output_type": "stream",
     "name": "stdout",
     "text": [
      "Blocks calculated\n",
      "Blocks transformed\n",
      "Creating pandas dataframe\n",
      "X and y variables created\n",
      "204/204 [==============================] - 4s 20ms/step - loss: 0.0295 - accuracy: 0.9949\n",
      "2 bits displaced Loss: 0.0295\n",
      "2 bits displaced Accuracy: 99.49%\n"
     ]
    }
   ],
   "metadata": {}
  },
  {
   "cell_type": "markdown",
   "source": [
    "## 3 bits displaced"
   ],
   "metadata": {}
  },
  {
   "cell_type": "code",
   "execution_count": 15,
   "source": [
    "parity_matrix_path = 'Matlab/matrix_generated/Mat_LCP_Parity_3_displaced.mat'    # L -> New Pseudo random\r\n",
    "\r\n",
    "#-------------------------------------------------------------------------------------------#\r\n",
    "# block_size, size1, size2 = 260, 57, 114\r\n",
    "X, y = return_data.return_Xy(parity_matrix_path, parity_matrix_name, random_matrix_path, random_matrix_name, block_size, transform_type)\r\n",
    "\r\n",
    "df_pixel = pd.DataFrame(X)\r\n",
    "df_pixel .insert(loc=0, column='Label', value=y)\r\n",
    "\r\n",
    "# small_df = df_pixel[df_pixel.columns[:401]]\r\n",
    "# size1, size2 = 40, 50\r\n",
    "# df_pixel = small_df\r\n",
    "\r\n",
    "X = df_pixel.drop([\"Label\"], axis=1)\r\n",
    "y = df_pixel['Label']\r\n",
    "\r\n",
    "X = X.values.reshape(-1, size1, size2, 1)\r\n",
    "y = to_categorical(y, num_classes=2)\r\n",
    "\r\n",
    "#-------------------------------------------------------------------------------------------#\r\n",
    "\r\n",
    "score = model.evaluate(X, y)\r\n",
    "print(\"3 bits displaced Loss: {:.4f}\".format(score[0]))\r\n",
    "print(\"3 bits displaced Accuracy: {:.2f}%\".format(score[1]*100))"
   ],
   "outputs": [
    {
     "output_type": "stream",
     "name": "stdout",
     "text": [
      "Blocks calculated\n",
      "Blocks transformed\n",
      "Creating pandas dataframe\n",
      "X and y variables created\n",
      "204/204 [==============================] - 5s 21ms/step - loss: 2.3563 - accuracy: 0.5220\n",
      "3 bits displaced Loss: 2.3563\n",
      "3 bits displaced Accuracy: 52.20%\n"
     ]
    }
   ],
   "metadata": {}
  },
  {
   "cell_type": "markdown",
   "source": [
    "## 1 bit reversed"
   ],
   "metadata": {}
  },
  {
   "cell_type": "code",
   "execution_count": 16,
   "source": [
    "parity_matrix_path = 'Matlab/matrix_generated/Mat_LCP_Parity_1_reversed.mat'    # L -> New Pseudo random\r\n",
    "\r\n",
    "#-------------------------------------------------------------------------------------------#\r\n",
    "# block_size, size1, size2 = 260, 57, 114\r\n",
    "X, y = return_data.return_Xy(parity_matrix_path, parity_matrix_name, random_matrix_path, random_matrix_name, block_size, transform_type)\r\n",
    "\r\n",
    "df_pixel = pd.DataFrame(X)\r\n",
    "df_pixel .insert(loc=0, column='Label', value=y)\r\n",
    "\r\n",
    "# small_df = df_pixel[df_pixel.columns[:401]]\r\n",
    "# size1, size2 = 40, 50\r\n",
    "# df_pixel = small_df\r\n",
    "\r\n",
    "X = df_pixel.drop([\"Label\"], axis=1)\r\n",
    "y = df_pixel['Label']\r\n",
    "\r\n",
    "X = X.values.reshape(-1, size1, size2, 1)\r\n",
    "y = to_categorical(y, num_classes=2)\r\n",
    "\r\n",
    "#-------------------------------------------------------------------------------------------#\r\n",
    "\r\n",
    "score = model.evaluate(X, y)\r\n",
    "print(\"1 bit reversed Loss: {:.4f}\".format(score[0]))\r\n",
    "print(\"1 bit reversed Accuracy: {:.2f}%\".format(score[1]*100))"
   ],
   "outputs": [
    {
     "output_type": "stream",
     "name": "stdout",
     "text": [
      "Blocks calculated\n",
      "Blocks transformed\n",
      "Creating pandas dataframe\n",
      "X and y variables created\n",
      "204/204 [==============================] - 4s 18ms/step - loss: 3.5995 - accuracy: 0.4998\n",
      "1 bit reversed Loss: 3.5995\n",
      "1 bit reversed Accuracy: 49.98%\n"
     ]
    }
   ],
   "metadata": {}
  }
 ]
}